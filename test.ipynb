{
 "cells": [
  {
   "cell_type": "code",
   "execution_count": 18,
   "metadata": {},
   "outputs": [],
   "source": [
    "import numpy as np\n",
    "import pygame as pg\n",
    "import math\n",
    "import time\n",
    "from Agents.agent import Agent\n",
    "from Agents.cast_update_rays import update_cast_rays"
   ]
  },
  {
   "cell_type": "code",
   "execution_count": 3,
   "metadata": {},
   "outputs": [],
   "source": [
    "WIDTH = 600\n",
    "HEIGHT = 600\n",
    "WHITE = (255, 255, 255)\n",
    "RED = (255, 0, 0)\n",
    "GREEN = (0, 255, 0)"
   ]
  },
  {
   "cell_type": "code",
   "execution_count": null,
   "metadata": {},
   "outputs": [],
   "source": [
    "class Movables:\n",
    "    def __init__(self, screen):\n",
    "        self.screen = screen\n",
    "        self.current_position = None\n",
    "        self.rect = None\n",
    "        self.name = 'movable'\n",
    "        self.is_attatched = False\n",
    "        self.radius = 20\n",
    "        self.center = None\n",
    "\n",
    "    def reset_movable(self, coordinates):\n",
    "        \"\"\"\n",
    "        take the coordinates and set the position of the movable to that location\n",
    "        \"\"\"\n",
    "\n",
    "        self.current_position = np.array([coordinates[0], coordinates[1]], dtype=np.float32)\n",
    "        self.center = (int(self.current_position[0]), int(self.current_position[1]))\n",
    "        self.rect = pg.draw.circle(self.screen, (255, 0, 0), self.center, self.radius)\n",
    "\n",
    "    def move(self, agent):\n",
    "        # the object can only move if it's attaced to something\n",
    "\n",
    "        if self.is_attatched:\n",
    "            angle = math.radians(agent.angle)\n",
    "            displacement = np.array([\n",
    "                self.radius * math.cos(angle),\n",
    "                self.radius * math.sin(angle)\n",
    "            ], dtype=np.float32)\n",
    "\n",
    "            self.current_position = agent.current_position + displacement\n",
    "\n",
    "\n",
    "    def get_rect(self):\n",
    "        return self.rect\n",
    "\n",
    "    def attach_object(self, object):\n",
    "        pass\n",
    "\n",
    "    def detach_object(self):\n",
    "        pass\n",
    "\n"
   ]
  }
 ],
 "metadata": {
  "kernelspec": {
   "display_name": "myenv",
   "language": "python",
   "name": "python3"
  },
  "language_info": {
   "codemirror_mode": {
    "name": "ipython",
    "version": 3
   },
   "file_extension": ".py",
   "mimetype": "text/x-python",
   "name": "python",
   "nbconvert_exporter": "python",
   "pygments_lexer": "ipython3",
   "version": "3.11.5"
  }
 },
 "nbformat": 4,
 "nbformat_minor": 2
}
